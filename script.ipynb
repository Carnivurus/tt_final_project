{
 "cells": [
  {
   "cell_type": "code",
   "execution_count": null,
   "id": "11aacd89",
   "metadata": {
    "lines_to_next_cell": 1
   },
   "outputs": [],
   "source": [
    "import pandas as pd\n",
    "import numpy as np\n",
    "import math\n",
    "import seaborn as sns\n",
    "import matplotlib.pyplot as plt"
   ]
  },
  {
   "cell_type": "markdown",
   "id": "12d7bde2",
   "metadata": {},
   "source": [
    "# Definir objetivo del proyecto\n",
    "- Objetivo: Pronosticar tasa de cancelación de clientes\n",
    "- Tipo de modelo: Clasificación\n",
    "- Característica objetivo: la columna `'EndDate'` es igual a `'No'`.\n",
    "- Métrica principal: AUC-ROC.\n",
    "- Métrica adicional: exactitud.\n",
    "- Criterios de evaluación:\n",
    "- AUC-ROC < 0.75 — 0 SP\n",
    "- 0.75 ≤ AUC-ROC < 0.81 — 4 SP\n",
    "- 0.81 ≤ AUC-ROC < 0.85 — 4.5 SP\n",
    "- 0.85 ≤ AUC-ROC < 0.87 — 5 SP\n",
    "- 0.87 ≤ AUC-ROC < 0.88 — 5.5 SP\n",
    "- AUC-ROC ≥ 0.88 — 6 SP"
   ]
  },
  {
   "cell_type": "code",
   "execution_count": null,
   "id": "0a8dbdb3",
   "metadata": {},
   "outputs": [],
   "source": [
    "# # Functions\n",
    "def category_check(df,columns):\n",
    "    '''When data frame and columns provided, the function\n",
    "    will return the value counts of each column'''\n",
    "    for col in columns:\n",
    "        print()\n",
    "        print(df[col].value_counts(), end='\\n\\n')"
   ]
  },
  {
   "cell_type": "code",
   "execution_count": null,
   "id": "cdd71a48",
   "metadata": {
    "lines_to_next_cell": 0
   },
   "outputs": [],
   "source": [
    "# # Importing datasets\n",
    "contract_df = pd.read_csv('datasets/contract.csv')\n",
    "internet_df = pd.read_csv('datasets/internet.csv')\n",
    "personal_df = pd.read_csv('datasets/personal.csv')\n",
    "phone_df = pd.read_csv('datasets/phone.csv')"
   ]
  },
  {
   "cell_type": "markdown",
   "id": "043883d8",
   "metadata": {
    "lines_to_next_cell": 0
   },
   "source": [
    "# Preprocessing"
   ]
  },
  {
   "cell_type": "code",
   "execution_count": null,
   "id": "d345eec0",
   "metadata": {},
   "outputs": [],
   "source": [
    "# ## CONTRACT\n",
    "contract_df.head(4)\n",
    "contract_df.info()\n",
    "category_check(contract_df,['Type','PaymentMethod'])"
   ]
  },
  {
   "cell_type": "markdown",
   "id": "2ba2be25",
   "metadata": {
    "lines_to_next_cell": 2
   },
   "source": [
    "- Se observan columnas con formato PascalCase a excepción de customerID, \n",
    "- Las columnas BeginDate y EndDate pueden ser modificadas al formato timestamp,\n",
    "- Lo columna Type puede ser cambiada al tipo Category al ser pocos elementos categóricos (Ocupará menos memoria)\n",
    "- PaperlessBilling puede ser una categoría no relevante para el estudio\n",
    "- PaymentMethod puede ser cambiada al tipo Category al ser pocos elementos categóricos (Ocupará menos memoria)\n",
    "- MonthlyCharges se encuentra correctamente asignado\n",
    "- TotalCharges debe ser cambiado a tipo Float"
   ]
  },
  {
   "cell_type": "code",
   "execution_count": null,
   "id": "f8163528",
   "metadata": {},
   "outputs": [],
   "source": [
    "# Renombrado customerID\n",
    "contract_df.rename(columns={'customerID': 'CustomerID'}, inplace=True)"
   ]
  },
  {
   "cell_type": "code",
   "execution_count": null,
   "id": "5607b4ed",
   "metadata": {},
   "outputs": [],
   "source": [
    "# Buscando duplicados\n",
    "contract_df.duplicated().sum()\n",
    "# No fueron encontrados valores duplicados"
   ]
  },
  {
   "cell_type": "code",
   "execution_count": null,
   "id": "a986aeaf",
   "metadata": {},
   "outputs": [],
   "source": [
    "nan_values = contract_df[contract_df.isna().any(axis=1)]\n",
    "nan_values\n",
    "# No fueron encontrados valores_nulos"
   ]
  },
  {
   "cell_type": "code",
   "execution_count": null,
   "id": "f81806a8",
   "metadata": {},
   "outputs": [],
   "source": [
    "# Las columnas BeginDate y EndDate pueden ser modificadas al formato timestamp,\n",
    "contract_df['BeginDate'] = pd.to_datetime(contract_df['BeginDate'], format= '%Y-%m-%d')"
   ]
  },
  {
   "cell_type": "code",
   "execution_count": null,
   "id": "6d2326dd",
   "metadata": {},
   "outputs": [],
   "source": [
    "# Cambiando tipos de Columna a category\n",
    "contract_df['Type'] = contract_df['Type'].astype('category')\n",
    "contract_df['PaymentMethod'] = contract_df['PaymentMethod'].astype('category')"
   ]
  },
  {
   "cell_type": "code",
   "execution_count": null,
   "id": "c6825ace",
   "metadata": {
    "lines_to_next_cell": 0
   },
   "outputs": [],
   "source": [
    "# Cambiando Total Charges a float y configurando valores no numéricos a NA\n",
    "\n",
    "# contract_df[contract_df['TotalCharges'].isna().any()]\n",
    "\n",
    "valores_no_numericos = pd.to_numeric(contract_df['TotalCharges'], errors='coerce').isna()\n",
    "# contract_df[valores_no_numericos]\n",
    "contract_df['TotalCharges'] = pd.to_numeric(contract_df['TotalCharges'], errors='coerce')\n",
    "\n",
    "# PENDIENTE PARA CONSIDERAR ENCONTRAR TOTAL CHARGES"
   ]
  },
  {
   "cell_type": "code",
   "execution_count": null,
   "id": "c70673f5",
   "metadata": {},
   "outputs": [],
   "source": [
    "################\n",
    "# ## INTERNET\n",
    "internet_df.head(4)\n",
    "internet_df.info()\n",
    "\n",
    "category_check(internet_df, internet_df.columns[1:] )"
   ]
  },
  {
   "cell_type": "markdown",
   "id": "5847a727",
   "metadata": {},
   "source": [
    "No hay elementos fuera de los rangos No, Yes."
   ]
  },
  {
   "cell_type": "code",
   "execution_count": null,
   "id": "421adc3f",
   "metadata": {},
   "outputs": [],
   "source": [
    "# Buscando duplicados\n",
    "internet_df.duplicated().sum()"
   ]
  },
  {
   "cell_type": "markdown",
   "id": "f27d2595",
   "metadata": {},
   "source": [
    "No fueron encontrados valores duplicados\n",
    "Columna customerID será transformada a PascalCase"
   ]
  },
  {
   "cell_type": "code",
   "execution_count": null,
   "id": "afad88d8",
   "metadata": {},
   "outputs": [],
   "source": [
    "# Renombrado customerID\n",
    "internet_df.rename(columns={'customerID': 'CustomerID'}, inplace=True)"
   ]
  },
  {
   "cell_type": "code",
   "execution_count": null,
   "id": "ddf2cb13",
   "metadata": {},
   "outputs": [],
   "source": [
    "##########\n",
    "# ## PERSONAL\n",
    "\n",
    "personal_df.sample(4)\n",
    "personal_df.info()\n",
    "category_check(personal_df,personal_df.columns[1:])\n",
    "personal_df.duplicated().sum()"
   ]
  },
  {
   "cell_type": "markdown",
   "id": "acdff458",
   "metadata": {
    "lines_to_next_cell": 2
   },
   "source": [
    "- Los elementos no cuentan con valores duplicados ni ausentes, muestra coherencia en los datos.\n",
    "- Podrían categorizarse las columnas Gender, Partner y Dependents\n",
    "- Gender, CustomerID no estan aplicando CamelCase, se procede a cambiarlos al formato."
   ]
  },
  {
   "cell_type": "code",
   "execution_count": null,
   "id": "6df18927",
   "metadata": {
    "lines_to_next_cell": 2
   },
   "outputs": [],
   "source": [
    "personal_df.rename(columns={'gender': 'Gender'}, inplace=True)\n",
    "personal_df.rename(columns={'customerID': 'CustomerID'}, inplace=True)"
   ]
  },
  {
   "cell_type": "code",
   "execution_count": null,
   "id": "2617e974",
   "metadata": {},
   "outputs": [],
   "source": [
    "##########\n",
    "# ## PHONE\n",
    "phone_df.sample(4)\n",
    "phone_df.info()\n",
    "category_check(phone_df,phone_df.columns[1:])\n",
    "phone_df.duplicated().sum()"
   ]
  },
  {
   "cell_type": "markdown",
   "id": "d9c335b8",
   "metadata": {
    "lines_to_next_cell": 1
   },
   "source": [
    "- Los elementos no cuentan con valores duplicados ni ausentes, muestra coherencia en los datos.\n",
    "- Podrían categorizarse la columna MultipleLines\n",
    "- Gender, CustomerID no estan aplicando CamelCase, se procede a cambiarlos al formato.\n",
    "\n",
    "phone_df.rename(columns={'customerID': 'CustomerID'}, inplace=True)"
   ]
  },
  {
   "cell_type": "markdown",
   "id": "b8f5877e",
   "metadata": {},
   "source": [
    "# Análisis de caracteristicas"
   ]
  },
  {
   "cell_type": "code",
   "execution_count": null,
   "id": "4a4442df",
   "metadata": {
    "lines_to_next_cell": 0
   },
   "outputs": [],
   "source": [
    "\n",
    "def plot(df, cols, grid):\n",
    "    '''Esta funcion crera un grid de todos los elementos deseados a analizar\n",
    "    en un histograma, solo sera necesario esecificar el df de origen, el nombre de\n",
    "    las columnas y el grid a utilizar ex. grid=(2,2)'''\n",
    "    fig, axes = plt.subplots(grid[0],grid[1], figsize=(15,10))\n",
    "    axes= axes.flatten()\n",
    "\n",
    "    for i,col in enumerate(cols):\n",
    "        axes[i].hist(df[col])\n",
    "        axes[i].set_title(f'{col} Histogram')\n",
    "\n",
    "    plt.tight_layout()\n",
    "    plt.show()\n",
    "\n",
    "def distribution(df):\n",
    "    '''Esta funcion devuelve los valores únicos en porcentajes\n",
    "    solo será necesario especificar el df y se analizará cada columna'''\n",
    "    stats=[]\n",
    "    for col in df:\n",
    "        stats.append([df[col].value_counts(normalize=True)*100])\n",
    "    return stats"
   ]
  },
  {
   "cell_type": "markdown",
   "id": "e2851b7f",
   "metadata": {},
   "source": [
    "## Contract dataset"
   ]
  },
  {
   "cell_type": "code",
   "execution_count": null,
   "id": "56134c46",
   "metadata": {},
   "outputs": [],
   "source": [
    "distribution(contract_df.iloc[:,3:-2])\n",
    "plot(contract_df, contract_df.iloc[:,3:], grid=(3,2))"
   ]
  },
  {
   "cell_type": "markdown",
   "id": "ece4ba1e",
   "metadata": {},
   "source": [
    "- Tipo de pago: De acuerdo con el gráfico mostrado la preferencia de los usuarios de Interconnect se inclina\n",
    "a pagos mensuales como primera opción, seguido de pagos anuales y finalmente pagos cada dos años.\n",
    "- Pagos impresos: La mayoría de los usuarios aún prefieren sus facturas en formato físico, aunque observamos que \n",
    "una gran cantidad de usuarios tienen preferencia al formato digital.\n",
    "- Metodo de pago: El método de pago mas recurrido es el de cheque electrónico, seguido de cheque por mail,\n",
    "transferencia bancaria (automática) y finalmente tarjeta de crédito."
   ]
  },
  {
   "cell_type": "code",
   "execution_count": null,
   "id": "ade1a845",
   "metadata": {},
   "outputs": [],
   "source": [
    "contract_df['MonthlyCharges'].describe()\n",
    "plt.boxplot(contract_df['MonthlyCharges'],showfliers=True)\n",
    "plt.show()\n",
    "\n",
    "contract_df['TotalCharges'].describe()\n",
    "sns.boxplot(contract_df['TotalCharges'],showfliers=True)\n",
    "plt.show()"
   ]
  },
  {
   "cell_type": "markdown",
   "id": "90841bc9",
   "metadata": {},
   "source": [
    "- Cargo Mensual: Los cargos mensuales tienen una media alrededor de 65 y no presenta valores atípicos,\n",
    "además, presenta una mínima de 18.25 y una máxima de 118.75 M/N\n",
    "- Cargos totales: Los cargos totales tienen una media de 2283.30 con una maxima de 8684.80 y una mínima de 18.8,\n",
    "no se presentan valores atípicos."
   ]
  },
  {
   "cell_type": "markdown",
   "id": "981eaa14",
   "metadata": {},
   "source": [
    "## Internet dataset\n",
    "\n",
    "distribution(internet_df.iloc[:,1:])\n",
    "plot(internet_df, internet_df.iloc[:,1:], grid=(4,2))\n",
    "\n",
    "Obtener la distribución de los valores."
   ]
  },
  {
   "cell_type": "markdown",
   "id": "1ff833d2",
   "metadata": {},
   "source": [
    "- Servicio de internet: La fibra óptica es la infraestructura mas utilizada para el servicio de Interconnect, \n",
    "sin embargo, mas de 2000 usuarios (alrededor del 43%) aún cuentan con DSL lo cuál no podría ser la mejor opción con las necesidades actuales.\n",
    "- Servicio de seguridad online: La mayoría de los usuarios no usan este servicio, solo un 37% lo tiene contratado, esto puede deberse a\n",
    "a la falta de necesidad por los servicios integrados de seguridad por windows/apple.\n",
    "- Servicio de respaldo: Un 44% de los usuarios tienen contratado este servicio para respaladar su información\n",
    "- Servicio de protección de dispositivos: Un 44% de los usuarios hacen uso de esta servicio.\n",
    "- Servicio de Tech Support: El 63% no utiliza el servicio de soporte técnico\n",
    "- Streaming TV: Casi la mitad de los usuarios (49%) utilizan el servicio de streaming TV\n",
    "- StreamingMovies: La mitad de los usuarios utilizan el servicio de streaming TV"
   ]
  },
  {
   "cell_type": "markdown",
   "id": "88283b0c",
   "metadata": {
    "lines_to_next_cell": 2
   },
   "source": [
    "## Personal dataset\n",
    "\n",
    "plot(personal_df, personal_df.iloc[:,1:], grid=(2,2))\n",
    "distribution(personal_df.iloc[:,1:])\n",
    "\n",
    "# Mayores de edad? problema?\n",
    "\n",
    "# %% [markdown]\n",
    "\n",
    "- Genero: La distribución de genero es equitativa, 50% para ambos grupos.\n",
    "- SeniorCitizen: El 83% de usuarios son mayores de 60 años.\n",
    "- Compañero: El 51% de usuarios tienen una pareja\n",
    "- Dependientes: Solo el 30% de los usuarios tienen dependientes."
   ]
  },
  {
   "cell_type": "markdown",
   "id": "ad021d6e",
   "metadata": {
    "lines_to_next_cell": 2
   },
   "source": [
    "## Phone dataset\n",
    "\n",
    "distribution(phone_df.iloc[:-1])\n",
    "plt.hist(phone_df['MultipleLines'])\n",
    "plt.show()\n",
    "\n",
    "\n",
    "# %% [markdown]\n",
    "- Multiples Lineas: El 53% de los usuarios posen una linea, mientras que el 47% tienen contratadas multiples lineas.\n",
    "\n",
    "\n",
    "contract_df.sample(1)\n",
    "internet_df.sample(1)\n",
    "personal_df.sample(1)\n",
    "phone_df.sample(1)\n",
    "\n",
    "merged_df = pd.merge(contract_df, internet_df, how='outer', on='CustomerID')\n",
    "merged_df = pd.merge(merged_df, personal_df, how='outer', on='CustomerID')\n",
    "merged_df = pd.merge(merged_df, phone_df, how='outer', on='CustomerID')\n",
    "merged_df.info()\n",
    "merged_df[merged_df.isnull().any(axis=1)]"
   ]
  },
  {
   "cell_type": "markdown",
   "id": "b6b9115c",
   "metadata": {},
   "source": [
    "Tenemos valores faltantes al realizar el merge entre desde los datasets internet_df y phone_df, sera necesario imputar\n",
    "los datos o removerlos.\n",
    "- Contamos con 7043 datos totales con valores nulos."
   ]
  },
  {
   "cell_type": "code",
   "execution_count": null,
   "id": "8ffd9421",
   "metadata": {},
   "outputs": [],
   "source": [
    "merged_df.info()\n",
    "impute_df = merged_df.copy()\n",
    "\n",
    "## Analizando cuales pasar a numéricos\n",
    "\n",
    "object_cols= impute_df.select_dtypes(exclude=['number'])\n",
    "non_objects_cols = impute_df.select_dtypes(include=['number'])\n",
    "\n",
    "object_cols.info()\n",
    "\n",
    "from sklearn.preprocessing import LabelEncoder\n",
    "def label_encoder(df):\n",
    "    label_mappings ={}\n",
    "    for col in df:\n",
    "        le = LabelEncoder()\n",
    "        df[col]= le.fit_transform(df[col])\n",
    "        label_mappings[col] = dict(zip(le.classes_, le.transform(le.classes_)))\n",
    "    return df, label_mappings\n",
    "\n",
    "def reverse_label_encoding(df, mappings):\n",
    "    df_reversed = df.copy()\n",
    "    for col, mapping in mappings.items():\n",
    "        reverse_mapping = {v: k for k, v in mapping.items()}\n",
    "        df_reversed[col] = df_reversed[col].map(reverse_mapping)\n",
    "    return df_reversed\n",
    "\n",
    "\n",
    "df_encoded, label_mappings = label_encoder(object_cols.iloc[:,3:])\n",
    "\n",
    "# Usar al final\n",
    "# df_original = reverse_label_encoding(df_encoded, mappings)\n",
    "reverse_label_encoding(df_encoded, label_mappings)\n",
    "\n",
    "## LA CORRELACION NO SE PUEDE APLICAR SI LOS VALORES NO SON NUMERICOS.\n",
    "\n",
    "new_df = pd.concat([object_cols.iloc[:,0:3], df_encoded, non_objects_cols], axis=1)\n",
    "\n",
    "# Definiendo correlación ppara valores no nulos.\n",
    "correlation_df = new_df[~new_df.isna().any(axis=1)]\n",
    "corr = correlation_df.iloc[:,3:].corr()\n",
    "print(corr)\n",
    "\n",
    "# Graficando la correlación\n",
    "sns.heatmap(corr, annot=True, cmap='coolwarm')\n",
    "plt.show()"
   ]
  },
  {
   "cell_type": "markdown",
   "id": "5e900665",
   "metadata": {},
   "source": [
    "No encontramos una correlación clara en las variables.\n",
    "\n",
    "\n",
    "from sklearn.impute import SimpleImputer\n",
    "\n",
    "First Option: using SimpleImputer\n",
    "imp = SimpleImputer(missing_values=np.nan, strategy='most_frequent')\n",
    "impute_df = pd.DataFrame(imp.fit_transform(impute_df), columns=merged_df.columns)\n",
    "impute_df.info()\n",
    "impute_df.iloc[7032,:]\n",
    "\n",
    "Second Option: removing null rows\n",
    "removed_nulls = merged_df.copy()\n",
    "removed_nulls = removed_nulls.dropna()\n",
    "removed_nulls.info()\n",
    "\n",
    "Third Option: using machine learning\n",
    "\n",
    "new_df\n",
    "\n",
    "not_na_df = new_df[~new_df.isna().any(axis=1)]\n",
    "na_df = new_df[new_df.isna().any(axis=1)]\n",
    "\n",
    "not_na_df.shape\n",
    "na_df.shape\n",
    "\n",
    "Defining features and objective\n",
    "x_train = not_na_df.drop(columns='TotalCharges')\n",
    "y_train = not_na_df['TotalCharges']\n",
    "\n",
    "rows = na_df.index\n",
    "x_test = na_df.drop(columns='TotalCharges')\n",
    "\n",
    "\n",
    "\n",
    "\n",
    "\n",
    "\n",
    "from sklearn.linear_model import LogisticRegression\n",
    "\n",
    "ME DETUVO YA QUE ES NECESARIO TENER TODOS LOS VALORES EN NUMÉRICOS, NO CATEGÓRIGOS\n",
    "\n",
    "lr = LogisticRegression()\n",
    "split\n",
    "lr.fit(x_train,y_train)\n",
    "target_score = lr.score(x_train,y_train)\n",
    "pred = lr.predict()"
   ]
  }
 ],
 "metadata": {
  "jupytext": {
   "cell_metadata_filter": "-all",
   "main_language": "python",
   "notebook_metadata_filter": "-all"
  },
  "language_info": {
   "name": "python"
  }
 },
 "nbformat": 4,
 "nbformat_minor": 5
}
